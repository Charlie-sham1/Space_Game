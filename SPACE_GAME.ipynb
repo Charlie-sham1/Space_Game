{
 "cells": [
  {
   "cell_type": "code",
   "execution_count": 1,
   "metadata": {},
   "outputs": [
    {
     "name": "stdout",
     "output_type": "stream",
     "text": [
      "pygame 2.1.2 (SDL 2.0.18, Python 3.10.4)\n",
      "Hello from the pygame community. https://www.pygame.org/contribute.html\n"
     ]
    }
   ],
   "source": [
    "import pygame\n",
    "import os"
   ]
  },
  {
   "cell_type": "code",
   "execution_count": 2,
   "metadata": {},
   "outputs": [],
   "source": [
    "pygame.font.init()\n",
    "pygame.mixer.init()"
   ]
  },
  {
   "cell_type": "code",
   "execution_count": 3,
   "metadata": {},
   "outputs": [],
   "source": [
    "WIDTH, HEIGHT = 900, 500\n",
    "WIN = pygame.display.set_mode((WIDTH, HEIGHT))\n",
    "pygame.display.set_caption(\"First Game!\")\n"
   ]
  },
  {
   "cell_type": "code",
   "execution_count": 4,
   "metadata": {},
   "outputs": [],
   "source": [
    "WHITE = (255, 255, 255)\n",
    "BLACK = (0, 0, 0)\n",
    "RED = (255, 0, 0)\n",
    "YELLOW = (255, 255, 0)"
   ]
  },
  {
   "cell_type": "code",
   "execution_count": 5,
   "metadata": {},
   "outputs": [],
   "source": [
    "BORDER = pygame.Rect(WIDTH//2 - 5, 0, 10, HEIGHT)"
   ]
  },
  {
   "cell_type": "code",
   "execution_count": 6,
   "metadata": {},
   "outputs": [],
   "source": [
    "#BULLET_HIT_SOUND = pygame.mixer.Sound('Assets/Grenade+1.mp3')\n",
    "#BULLET_FIRE_SOUND = pygame.mixer.Sound('Assets/Gun+Silencer.mp3')\n",
    "\n",
    "HEALTH_FONT = pygame.font.SysFont('comicsans', 40)\n",
    "WINNER_FONT = pygame.font.SysFont('comicsans', 100)"
   ]
  },
  {
   "cell_type": "code",
   "execution_count": 7,
   "metadata": {},
   "outputs": [],
   "source": [
    "FPS = 60\n",
    "VEL = 5\n",
    "BULLET_VEL = 7\n",
    "MAX_BULLETS = 3\n",
    "SPACESHIP_WIDTH, SPACESHIP_HEIGHT = 55, 40"
   ]
  },
  {
   "cell_type": "code",
   "execution_count": 8,
   "metadata": {},
   "outputs": [],
   "source": [
    "YELLOW_HIT = pygame.USEREVENT + 1 #custom user event\n",
    "RED_HIT = pygame.USEREVENT + 2 #custom user event"
   ]
  },
  {
   "cell_type": "code",
   "execution_count": 9,
   "metadata": {},
   "outputs": [],
   "source": [
    "#LOAD ALL IMAGES FOR THE GAME.\n",
    "YELLOW_SPACESHIP_IMAGE = pygame.image.load('/Users/rnda/Desktop/PygameForBeginners-main/Assets/spaceship_yellow.png')\n",
    "YELLOW_SPACESHIP = pygame.transform.rotate(pygame.transform.scale(YELLOW_SPACESHIP_IMAGE, (SPACESHIP_WIDTH, SPACESHIP_HEIGHT)), 90)\n",
    "\n",
    "RED_SPACESHIP_IMAGE = pygame.image.load('/Users/rnda/Desktop/PygameForBeginners-main/Assets/spaceship_red.png')\n",
    "RED_SPACESHIP = pygame.transform.rotate(pygame.transform.scale(RED_SPACESHIP_IMAGE, (SPACESHIP_WIDTH, SPACESHIP_HEIGHT)), 270)\n",
    "\n",
    "SPACE = pygame.transform.scale(pygame.image.load('/Users/rnda/Desktop/PygameForBeginners-main/Assets/space.png'), (WIDTH, HEIGHT))"
   ]
  },
  {
   "cell_type": "code",
   "execution_count": 10,
   "metadata": {},
   "outputs": [],
   "source": [
    "def draw_window(red, yellow, red_bullets, yellow_bullets, red_health, yellow_health):\n",
    "    WIN.blit(SPACE, (0, 0))\n",
    "    pygame.draw.rect(WIN, BLACK, BORDER)\n",
    "\n",
    "    red_health_text = HEALTH_FONT.render(\n",
    "        \"Health: \" + str(red_health), 1, WHITE)\n",
    "    yellow_health_text = HEALTH_FONT.render(\n",
    "        \"Health: \" + str(yellow_health), 1, WHITE)\n",
    "    WIN.blit(red_health_text, (WIDTH - red_health_text.get_width() - 10, 10))\n",
    "    WIN.blit(yellow_health_text, (10, 10))\n",
    "\n",
    "    WIN.blit(YELLOW_SPACESHIP, (yellow.x, yellow.y))\n",
    "    WIN.blit(RED_SPACESHIP, (red.x, red.y))\n",
    "\n",
    "    for bullet in red_bullets:\n",
    "        pygame.draw.rect(WIN, RED, bullet) #visual aspect of bullet. \n",
    "\n",
    "    for bullet in yellow_bullets:\n",
    "        pygame.draw.rect(WIN, YELLOW, bullet) #visual aspect of bullet. \n",
    "\n",
    "    pygame.display.update()"
   ]
  },
  {
   "cell_type": "code",
   "execution_count": 11,
   "metadata": {},
   "outputs": [],
   "source": [
    "def yellow_handle_movement(keys_pressed, yellow):\n",
    "    if keys_pressed[pygame.K_a] and yellow.x - VEL > 0:  # LEFT\n",
    "        yellow.x -= VEL\n",
    "    if keys_pressed[pygame.K_d] and yellow.x + VEL + yellow.width < BORDER.x:  # RIGHT\n",
    "        yellow.x += VEL\n",
    "    if keys_pressed[pygame.K_w] and yellow.y - VEL > 0:  # UP\n",
    "        yellow.y -= VEL\n",
    "    if keys_pressed[pygame.K_s] and yellow.y + VEL + yellow.height < HEIGHT - 15:  # DOWN\n",
    "        yellow.y += VEL"
   ]
  },
  {
   "cell_type": "code",
   "execution_count": 12,
   "metadata": {},
   "outputs": [],
   "source": [
    "def red_handle_movement(keys_pressed, red):\n",
    "    if keys_pressed[pygame.K_LEFT] and red.x - VEL > BORDER.x + BORDER.width:  # LEFT\n",
    "        red.x -= VEL\n",
    "    if keys_pressed[pygame.K_RIGHT] and red.x + VEL + red.width < WIDTH:  # RIGHT\n",
    "        red.x += VEL\n",
    "    if keys_pressed[pygame.K_UP] and red.y - VEL > 0:  # UP\n",
    "        red.y -= VEL\n",
    "    if keys_pressed[pygame.K_DOWN] and red.y + VEL + red.height < HEIGHT - 15:  # DOWN\n",
    "        red.y += VEL"
   ]
  },
  {
   "cell_type": "code",
   "execution_count": 13,
   "metadata": {},
   "outputs": [],
   "source": [
    "def handle_bullets(yellow_bullets, red_bullets, yellow, red): #\n",
    "    for bullet in yellow_bullets: #\n",
    "        bullet.x += BULLET_VEL #same idea as spaceship but faster movement. \n",
    "        if red.colliderect(bullet): # if the yellow bullets hit red charecter \n",
    "            pygame.event.post(pygame.event.Event(RED_HIT)) #\"red player was hit\"\n",
    "            yellow_bullets.remove(bullet)\n",
    "        elif bullet.x > WIDTH:\n",
    "            yellow_bullets.remove(bullet)\n",
    "\n",
    "    for bullet in red_bullets:\n",
    "        bullet.x -= BULLET_VEL\n",
    "        if yellow.colliderect(bullet): #Means if \n",
    "            pygame.event.post(pygame.event.Event(YELLOW_HIT))\n",
    "            red_bullets.remove(bullet) \n",
    "        elif bullet.x < 0: #when there is no bullets on screen give char extra. \n",
    "            red_bullets.remove(bullet)"
   ]
  },
  {
   "cell_type": "code",
   "execution_count": 14,
   "metadata": {},
   "outputs": [],
   "source": [
    "def draw_winner(text):\n",
    "    draw_text = WINNER_FONT.render(text, 1, WHITE)\n",
    "    WIN.blit(draw_text, (WIDTH/2 - draw_text.get_width() /2, HEIGHT/2 - draw_text.get_height()/2))\n",
    "    pygame.display.update()\n",
    "    pygame.time.delay(5000)"
   ]
  },
  {
   "cell_type": "code",
   "execution_count": 15,
   "metadata": {},
   "outputs": [
    {
     "ename": "error",
     "evalue": "video system not initialized",
     "output_type": "error",
     "traceback": [
      "\u001b[0;31m---------------------------------------------------------------------------\u001b[0m",
      "\u001b[0;31merror\u001b[0m                                     Traceback (most recent call last)",
      "\u001b[1;32mUntitled-3.ipynb Cell 15'\u001b[0m in \u001b[0;36m<cell line: 63>\u001b[0;34m()\u001b[0m\n\u001b[1;32m     <a href='vscode-notebook-cell:Untitled-3.ipynb?jupyter-notebook#ch0000014untitled?line=59'>60</a>\u001b[0m     main()\n\u001b[1;32m     <a href='vscode-notebook-cell:Untitled-3.ipynb?jupyter-notebook#ch0000014untitled?line=62'>63</a>\u001b[0m \u001b[39mif\u001b[39;00m \u001b[39m__name__\u001b[39m \u001b[39m==\u001b[39m \u001b[39m\"\u001b[39m\u001b[39m__main__\u001b[39m\u001b[39m\"\u001b[39m:\n\u001b[0;32m---> <a href='vscode-notebook-cell:Untitled-3.ipynb?jupyter-notebook#ch0000014untitled?line=63'>64</a>\u001b[0m     main()\n",
      "\u001b[1;32mUntitled-3.ipynb Cell 15'\u001b[0m in \u001b[0;36mmain\u001b[0;34m()\u001b[0m\n\u001b[1;32m     <a href='vscode-notebook-cell:Untitled-3.ipynb?jupyter-notebook#ch0000014untitled?line=47'>48</a>\u001b[0m     draw_winner(winner_text)\n\u001b[1;32m     <a href='vscode-notebook-cell:Untitled-3.ipynb?jupyter-notebook#ch0000014untitled?line=48'>49</a>\u001b[0m     \u001b[39mbreak\u001b[39;00m\n\u001b[0;32m---> <a href='vscode-notebook-cell:Untitled-3.ipynb?jupyter-notebook#ch0000014untitled?line=50'>51</a>\u001b[0m keys_pressed \u001b[39m=\u001b[39m pygame\u001b[39m.\u001b[39;49mkey\u001b[39m.\u001b[39;49mget_pressed()\n\u001b[1;32m     <a href='vscode-notebook-cell:Untitled-3.ipynb?jupyter-notebook#ch0000014untitled?line=51'>52</a>\u001b[0m yellow_handle_movement(keys_pressed, yellow)\n\u001b[1;32m     <a href='vscode-notebook-cell:Untitled-3.ipynb?jupyter-notebook#ch0000014untitled?line=52'>53</a>\u001b[0m red_handle_movement(keys_pressed, red)\n",
      "\u001b[0;31merror\u001b[0m: video system not initialized"
     ]
    },
    {
     "ename": "",
     "evalue": "",
     "output_type": "error",
     "traceback": [
      "\u001b[1;31mThe Kernel crashed while executing code in the the current cell or a previous cell. Please review the code in the cell(s) to identify a possible cause of the failure. Click <a href='https://aka.ms/vscodeJupyterKernelCrash'>here</a> for more info. View Jupyter <a href='command:jupyter.viewOutput'>log</a> for further details."
     ]
    }
   ],
   "source": [
    "def main():\n",
    "    red = pygame.Rect(700, 300, SPACESHIP_WIDTH, SPACESHIP_HEIGHT)\n",
    "    yellow = pygame.Rect(100, 300, SPACESHIP_WIDTH, SPACESHIP_HEIGHT)\n",
    "\n",
    "    red_bullets = [] #Append so we can set bullet limit.\n",
    "    yellow_bullets = []\n",
    "\n",
    "    red_health = 10\n",
    "    yellow_health = 10\n",
    "\n",
    "    clock = pygame.time.Clock()\n",
    "    run = True\n",
    "    while run:\n",
    "        clock.tick(FPS)\n",
    "        for event in pygame.event.get(): #all possible events that can happen in pygame. Seen as a processing cue. all events get posted here. \n",
    "            if event.type == pygame.QUIT:\n",
    "                run = False\n",
    "                pygame.quit()\n",
    "\n",
    "            if event.type == pygame.KEYDOWN: #KEYDOWN = Clicked down a key\n",
    "                if event.key == pygame.K_SPACE and len(yellow_bullets) < MAX_BULLETS:\n",
    "                    bullet = pygame.Rect(yellow.x + yellow.width, yellow.y + yellow.height//2 - 2, 10, 5) #first 2 positions, last 2. 5 and 10 are width and height.\n",
    "                    yellow_bullets.append(bullet)\n",
    "                    #BULLET_FIRE_SOUND.play()\n",
    "\n",
    "                if event.key == pygame.K_RSHIFT and len(red_bullets) < MAX_BULLETS: #INITIALISING TRIGGER, LOCATION, SHAPE AND BULLET LIMIT\n",
    "                    bullet = pygame.Rect(red.x, red.y + red.height//2 - 2, 10, 5)\n",
    "                    red_bullets.append(bullet)\n",
    "                    #BULLET_FIRE_SOUND.play()\n",
    "\n",
    "\n",
    "            if event.type == RED_HIT:\n",
    "                red_health -= 1\n",
    "                #BULLET_HIT_SOUND.play()\n",
    "\n",
    "            if event.type == YELLOW_HIT:\n",
    "                yellow_health -= 1\n",
    "                #BULLET_HIT_SOUND.play()\n",
    "\n",
    "        winner_text = \"\"\n",
    "        if red_health <= 0:\n",
    "            winner_text = \"Yellow Wins!\"\n",
    "\n",
    "        if yellow_health <= 0:\n",
    "            winner_text = \"Red Wins!\"\n",
    "\n",
    "        if winner_text != \"\":\n",
    "            draw_winner(winner_text)\n",
    "            break\n",
    "\n",
    "        keys_pressed = pygame.key.get_pressed()\n",
    "        yellow_handle_movement(keys_pressed, yellow)\n",
    "        red_handle_movement(keys_pressed, red)\n",
    "\n",
    "        handle_bullets(yellow_bullets, red_bullets, yellow, red)\n",
    "\n",
    "        draw_window(red, yellow, red_bullets, yellow_bullets,\n",
    "                    red_health, yellow_health)\n",
    "\n",
    "    main()\n",
    "\n",
    "\n",
    "if __name__ == \"__main__\":\n",
    "    main()"
   ]
  }
 ],
 "metadata": {
  "interpreter": {
   "hash": "1e451258c589bd64618f16421fb046c86036b864e363a9c0fd9c0e92d9b15b91"
  },
  "kernelspec": {
   "display_name": "Python 3.10.4 ('All-rounder')",
   "language": "python",
   "name": "python3"
  },
  "language_info": {
   "codemirror_mode": {
    "name": "ipython",
    "version": 3
   },
   "file_extension": ".py",
   "mimetype": "text/x-python",
   "name": "python",
   "nbconvert_exporter": "python",
   "pygments_lexer": "ipython3",
   "version": "3.10.4"
  },
  "orig_nbformat": 4
 },
 "nbformat": 4,
 "nbformat_minor": 2
}
